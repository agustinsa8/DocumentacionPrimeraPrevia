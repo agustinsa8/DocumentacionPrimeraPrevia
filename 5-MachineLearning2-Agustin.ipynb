{
 "cells": [
  {
   "cell_type": "markdown",
   "metadata": {},
   "source": [
    "## Agustin Salazar / 12250912229 "
   ]
  },
  {
   "cell_type": "markdown",
   "metadata": {},
   "source": [
    "\n",
    " COMPUTACIÓN BLANDA - Sistemas y Computación\n",
    " -------------------------------------------\n",
    " Introducción a numpy\n",
    " -------------------------------------------\n",
    " \n",
    "Lección 02\n",
    "\n",
    "    Técnicas de apilamiento\n",
    "    División de arrays\n",
    "    Propiedades de arrays\n",
    " -------------------------------------------"
   ]
  },
  {
   "cell_type": "code",
   "execution_count": null,
   "metadata": {},
   "outputs": [],
   "source": [
    "import numpy as np\n",
    "#Se crea un vector y se le adicionan nuevas filas y columnas\n",
    "a = np.arange(9).reshape(3,3)\n",
    "print('a =\\n', a, '\\n')\n",
    "\n",
    "b = a*2\n",
    "print('b =\\n', b)"
   ]
  },
  {
   "cell_type": "code",
   "execution_count": null,
   "metadata": {},
   "outputs": [],
   "source": [
    "# APILAMIENTO HORIZONTAL\n",
    "# Matrices origen\n",
    "print('a =\\n', a, '\\n')\n",
    "print('b =\\n', b, '\\n')\n",
    "# Apilamiento horizontal\n",
    "print('Apilamiento horizontal =\\n', np.hstack((a,b)) )"
   ]
  },
  {
   "cell_type": "code",
   "execution_count": null,
   "metadata": {},
   "outputs": [],
   "source": [
    "# APILAMIENTO VERTICAL - Variante\n",
    "\n",
    "# Utilización de la función: concatenate()\n",
    "# Matrices origen\n",
    "print('a =\\n', a, '\\n')\n",
    "print('b =\\n', b, '\\n')\n",
    "# Apilamiento vertical\n",
    "print( 'Apilamiento vertical con concatenate =\\n', np.concatenate((a,b), axis=0) )\n",
    "# Si axis=0, el apilamiento es vertical"
   ]
  },
  {
   "cell_type": "code",
   "execution_count": null,
   "metadata": {},
   "outputs": [],
   "source": [
    "# APILAMIENTO EN PROFUNDIDAD\n",
    "\n",
    "print('a =\\n', a, '\\n')\n",
    "print('b =\\n', b, '\\n')\n",
    "# Apilamiento en profundidad\n",
    "print( 'Apilamiento en profundidad =\\n', np.dstack((a,b)) )"
   ]
  },
  {
   "cell_type": "code",
   "execution_count": null,
   "metadata": {},
   "outputs": [],
   "source": [
    "# APILAMIENTO POR COLUMNAS\n",
    "\n",
    "print('a =\\n', a, '\\n')\n",
    "print('b =\\n', b, '\\n')\n",
    "# Apilamiento vertical\n",
    "print( 'Apilamiento por columnas =\\n', np.column_stack((a,b)) )"
   ]
  },
  {
   "cell_type": "code",
   "execution_count": null,
   "metadata": {},
   "outputs": [],
   "source": [
    "# APILAMIENTO POR FILAS\n",
    "\n",
    "print('a =\\n', a, '\\n')\n",
    "print('b =\\n', b, '\\n')\n",
    "# Apilamiento vertical\n",
    "print( 'Apilamiento por filas =\\n', np.row_stack((a,b)) )"
   ]
  },
  {
   "cell_type": "code",
   "execution_count": null,
   "metadata": {},
   "outputs": [],
   "source": [
    "# DIVISIÓN HORIZONTAL\n",
    "print('a = \\n', a, '\\n')\n",
    "# El código resultante divide una matriz a lo largo de su eje horizontal\n",
    "# en tres piezas del mismo tamaño y forma:\n",
    "print('Array con división horizontal =\\n', np.hsplit(a, 3), '\\n')\n",
    "# El mismo efecto se consigue con split() y utilizando una bandera a 1\n",
    "print('Array con división horizontal, uso de split() =\\n', np.split(a, 3, axis=1))"
   ]
  },
  {
   "cell_type": "code",
   "execution_count": null,
   "metadata": {},
   "outputs": [],
   "source": [
    "# DIVISIÓN VERTICAL\n",
    "print('a = \\n', a, '\\n')\n",
    "# La función vsplit divide el array a lo largo del eje vertical:\n",
    "print('División Vertical = \\n', np.vsplit(a, 3), '\\n')\n",
    "# El mismo efecto se consigue con split() y utilizando una bandera a 0\n",
    "print('Array con división vertical, uso de split() =\\n', np.split(a, 3, axis=0))"
   ]
  },
  {
   "cell_type": "code",
   "execution_count": null,
   "metadata": {},
   "outputs": [],
   "source": [
    "# DIVISIÓN EN PROFUNDIDAD\n",
    "\n",
    "# La función dsplit, como era de esperarse, realiza división\n",
    "# en profundidad dentro del array\n",
    "# Para ilustrar con un ejemplo, utilizaremos una matriz de rango tres\n",
    "c = np.arange(27).reshape(3, 3, 3)\n",
    "print('c = \\n', c, '\\n')\n",
    "# Se realiza la división\n",
    "print('División en profundidad =\\n', np.dsplit(c,3), '\\n')"
   ]
  },
  {
   "cell_type": "markdown",
   "metadata": {},
   "source": [
    "# PROPIEDADES DE LOS ARRAYS"
   ]
  },
  {
   "cell_type": "code",
   "execution_count": null,
   "metadata": {},
   "outputs": [],
   "source": [
    "# El atributo ndim calcula el número de dimensiones\n",
    "\n",
    "print('b = \\n', b, '\\n')\n",
    "print('ndim de b = ', b.ndim)"
   ]
  },
  {
   "cell_type": "code",
   "execution_count": null,
   "metadata": {},
   "outputs": [],
   "source": [
    "# El atributo size calcula el número de elementos\n",
    "\n",
    "print('b = \\n', b, '\\n')\n",
    "print('size de b = ', b.size)"
   ]
  },
  {
   "cell_type": "code",
   "execution_count": null,
   "metadata": {},
   "outputs": [],
   "source": [
    "# El atributo itemsize obtiene el número de bytes por cada elemento en el array\n",
    "print('itemsize de b = ', b.itemsize)"
   ]
  },
  {
   "cell_type": "code",
   "execution_count": null,
   "metadata": {},
   "outputs": [],
   "source": [
    "# El atributo nbytes calcula el número total de bytes del array\n",
    "\n",
    "print('b = \\n', b, '\\n')\n",
    "print('nbytes de b = ', b.nbytes, '\\n')\n",
    "# Es equivalente a la siguiente operación\n",
    "print('nbytes equivalente de b = ', b.size * b.itemsize)"
   ]
  },
  {
   "cell_type": "code",
   "execution_count": null,
   "metadata": {},
   "outputs": [],
   "source": [
    "# El atributo T tiene el mismo efecto que la transpuesta de la matriz\n",
    "print('b = \\n', b, '\\n')\n",
    "b.resize(6,4)\n",
    "print('Nuevo b = \\n', b, '\\n')\n",
    "print('Transpuesta del nuevo b: \\n', b.T)"
   ]
  },
  {
   "cell_type": "code",
   "execution_count": null,
   "metadata": {},
   "outputs": [],
   "source": [
    "b = np.array([1.j + 1, 2.j + 3])\n",
    "print('b = \\n', b, '\\n')"
   ]
  },
  {
   "cell_type": "code",
   "execution_count": null,
   "metadata": {},
   "outputs": [],
   "source": [
    "print('parte real de b: ', b.real, '\\n')\n",
    "\n",
    "print('parte imaginaria de b: ', b.imag)"
   ]
  },
  {
   "cell_type": "code",
   "execution_count": null,
   "metadata": {},
   "outputs": [],
   "source": [
    "# Si el array contiene números complejos, entonces el tipo de datos se convierte automáticamente a complejo\n",
    "print('el tipo de dato en b es: ', b.dtype)"
   ]
  },
  {
   "cell_type": "code",
   "execution_count": null,
   "metadata": {},
   "outputs": [],
   "source": [
    "b = np.arange(4).reshape(2,2)\n",
    "print('b = \\n', b, '\\n')\n",
    "\n",
    "f = b.flat\n",
    "print(f, '\\n')\n",
    "for item in f: print (item)\n",
    "# Selección de un elemento\n",
    "\n",
    "print('\\n')\n",
    "print('Elemento 2: ', b.flat[3])\n",
    "\n",
    "b.flat = 6\n",
    "for item in b.flat: print (item)\n",
    "    \n",
    "print(b, '\\n')\n",
    "\n",
    "b.flat[[1,3]] = 1\n",
    "print(b, '\\n')"
   ]
  }
 ],
 "metadata": {
  "kernelspec": {
   "display_name": "Python 3",
   "language": "python",
   "name": "python3"
  },
  "language_info": {
   "codemirror_mode": {
    "name": "ipython",
    "version": 3
   },
   "file_extension": ".py",
   "mimetype": "text/x-python",
   "name": "python",
   "nbconvert_exporter": "python",
   "pygments_lexer": "ipython3",
   "version": "3.7.4"
  }
 },
 "nbformat": 4,
 "nbformat_minor": 2
}
