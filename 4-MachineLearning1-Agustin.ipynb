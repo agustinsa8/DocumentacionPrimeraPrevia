{
 "cells": [
  {
   "cell_type": "markdown",
   "metadata": {},
   "source": [
    "## Agustin Salazar / 12250912229 "
   ]
  },
  {
   "cell_type": "markdown",
   "metadata": {},
   "source": [
    "\n",
    " COMPUTACIÓN BLANDA - Sistemas y Computación\n",
    " -------------------------------------------\n",
    " Introducción a numpy\n",
    " -------------------------------------------\n",
    " \n",
    " \n",
    "Lección 01\n",
    "\n",
    "  Creación de arrays\n",
    "  \n",
    "  Acceso a los arrays\n",
    "  \n",
    "  Manejo de rangos\n",
    "  \n",
    "  Modificación de arrays\n",
    "\n",
    " -------------------------------------------"
   ]
  },
  {
   "cell_type": "code",
   "execution_count": 1,
   "metadata": {},
   "outputs": [
    {
     "name": "stdout",
     "output_type": "stream",
     "text": [
      "Arreglo a = [ 0  1  2  3  4  5  6  7  8  9 10 11 12 13 14] \n",
      "\n",
      "Tipo de a = int32 \n",
      "\n",
      "Dimensión de a = 1 \n",
      "\n",
      "Número de elementos de a = (15,)\n"
     ]
    }
   ],
   "source": [
    "import numpy as np\n",
    "\n",
    "a = np.arange(15)\n",
    "print('Arreglo a =', a, '\\n')\n",
    "print('Tipo de a =', a.dtype, '\\n')\n",
    "print('Dimensión de a =', a.ndim, '\\n')\n",
    "print('Número de elementos de a =', a.shape)"
   ]
  },
  {
   "cell_type": "code",
   "execution_count": 2,
   "metadata": {},
   "outputs": [
    {
     "name": "stdout",
     "output_type": "stream",
     "text": [
      "[[0 1 2 3 4]\n",
      " [0 1 2 3 4]]\n"
     ]
    }
   ],
   "source": [
    "# Creando un arreglo multidimensional\n",
    "m = np.array([np.arange(5), np.arange(5)])\n",
    "print(m)"
   ]
  },
  {
   "cell_type": "code",
   "execution_count": 3,
   "metadata": {},
   "outputs": [
    {
     "name": "stdout",
     "output_type": "stream",
     "text": [
      "a =\n",
      " [[1 2 3 4]\n",
      " [5 6 7 8]] \n",
      "\n",
      "a[0,0] = 1 \n",
      "\n",
      "a[0,1] = 2 \n",
      "\n",
      "a[0,2] = 3 \n",
      "\n",
      "a[0,3] = 4 \n",
      "\n",
      "a[1,0] = 5 \n",
      "\n",
      "a[1,1] = 6 \n",
      "\n",
      "a[1,2] = 7 \n",
      "\n",
      "a[1,3] = 8\n"
     ]
    }
   ],
   "source": [
    "# Seleccionando elementos de un array\n",
    "\n",
    "a = np.array([[1,2,3,4], [5,6,7,8]])\n",
    "print('a =\\n', a, '\\n')\n",
    "# Elementos individuales\n",
    "print('a[0,0] =', a[0,0], '\\n')\n",
    "print('a[0,1] =', a[0,1], '\\n')\n",
    "print('a[0,2] =', a[0,2], '\\n')\n",
    "print('a[0,3] =', a[0,3], '\\n')\n",
    "print('a[1,0] =', a[1,0], '\\n')\n",
    "print('a[1,1] =', a[1,1], '\\n')\n",
    "print('a[1,2] =', a[1,2], '\\n')\n",
    "print('a[1,3] =', a[1,3])"
   ]
  },
  {
   "cell_type": "code",
   "execution_count": 4,
   "metadata": {},
   "outputs": [
    {
     "name": "stdout",
     "output_type": "stream",
     "text": [
      "a = [0 1 2 3 4 5 6 7 8] \n",
      "\n",
      "a[0:9] =  [0 1 2 3 4 5 6 7 8] \n",
      "\n",
      "a[3,7] = [3 4 5 6]\n"
     ]
    }
   ],
   "source": [
    "a = np.arange(9)\n",
    "z=a\n",
    "print('a =', a, '\\n')\n",
    "# Muestra los elementos desde 0 hasta 9. Imprime desde 0 hasta 8\n",
    "print('a[0:9] = ', a[0:9], '\\n')\n",
    "# Muestra desde 3 hasta 7. Imprime desde 3 hasta 6\n",
    "print('a[3,7] =', a[3:7])"
   ]
  },
  {
   "cell_type": "code",
   "execution_count": 5,
   "metadata": {},
   "outputs": [
    {
     "name": "stdout",
     "output_type": "stream",
     "text": [
      "a = [0 1 2 3 4 5 6 7 8] \n",
      "\n",
      "a[0:9:1] = [0 1 2 3 4 5 6 7 8] \n",
      "\n",
      "a[:9:1] = [0 1 2 3 4 5 6 7 8] \n",
      "\n",
      "a[0:9:2] = [0 2 4 6 8] \n",
      "\n",
      "a[0:9:3] = [0 3 6]\n"
     ]
    }
   ],
   "source": [
    "# Mostrando todos los elementos, desde el 0 hasta el 8, de uno en uno\n",
    "\n",
    "print('a =', z, '\\n')\n",
    "\n",
    "print('a[0:9:1] =', a[0:9:1], '\\n')\n",
    "# El mismo ejemplo, pero omitiendo el número 0 al principio, el cual no es necesario aquí\n",
    "print('a[:9:1] =', a[:9:1], '\\n')\n",
    "# Mostrando los números, de dos en dos\n",
    "print('a[0:9:2] =', a[0:9:2], '\\n')\n",
    "# Mostrando los números, de tres en tres\n",
    "print('a[0:9:3] =', a[0:9:3])"
   ]
  },
  {
   "cell_type": "code",
   "execution_count": 6,
   "metadata": {},
   "outputs": [
    {
     "name": "stdout",
     "output_type": "stream",
     "text": [
      "a = [0 1 2 3 4 5 6 7 8] \n",
      "\n",
      "a[9:0:-1] = [8 7 6 5 4 3 2 1] \n",
      "\n",
      "a[::-1] = [8 7 6 5 4 3 2 1 0]\n"
     ]
    }
   ],
   "source": [
    "# Si utilizamos un incremento negativo, el array se muestra en orden inverso\n",
    "\n",
    "print('a =', z, '\\n')\n",
    "# El problema es que no muestra el valor 0\n",
    "print('a[9:0:-1] =', a[9:0:-1], '\\n')\n",
    "# Si se omiten los valores de índice, el resultado es preciso\n",
    "print('a[::-1] =', a[::-1])"
   ]
  },
  {
   "cell_type": "code",
   "execution_count": 7,
   "metadata": {},
   "outputs": [
    {
     "name": "stdout",
     "output_type": "stream",
     "text": [
      "b = [ 0  1  2  3  4  5  6  7  8  9 10 11 12 13 14 15 16 17 18 19 20 21 22 23] \n",
      "\n",
      "b =\n",
      " [[[ 0  1  2  3]\n",
      "  [ 4  5  6  7]\n",
      "  [ 8  9 10 11]]\n",
      "\n",
      " [[12 13 14 15]\n",
      "  [16 17 18 19]\n",
      "  [20 21 22 23]]]\n"
     ]
    }
   ],
   "source": [
    "# Utilización de arreglos multidimensionales\n",
    "\n",
    "b = np.arange(24)\n",
    "print('b =', b, '\\n')\n",
    "\n",
    "# La instrucción reshape genera una matriz con 2 bloques, 3 filas y 4 columnas\n",
    "# El número total de elementos es de 24 (generados por arange)\n",
    "y =b.reshape(2,3,4)\n",
    "print('b =\\n', y)"
   ]
  },
  {
   "cell_type": "code",
   "execution_count": 8,
   "metadata": {},
   "outputs": [
    {
     "name": "stdout",
     "output_type": "stream",
     "text": [
      "b =\n",
      " [[[ 0  1  2  3]\n",
      "  [ 4  5  6  7]\n",
      "  [ 8  9 10 11]]\n",
      "\n",
      " [[12 13 14 15]\n",
      "  [16 17 18 19]\n",
      "  [20 21 22 23]]] \n",
      "\n",
      "b[1,2,3] = 23 \n",
      "\n",
      "b[0,2,2] = 10 \n",
      "\n",
      "b[0,1,1] = 5\n"
     ]
    }
   ],
   "source": [
    "print('b =\\n', y, '\\n')\n",
    "# Acceso individual a los elementos del array\n",
    "# Elemento en el bloque 1, fila 2, columna 3\n",
    "print('b[1,2,3] =', y[1,2,3], '\\n')\n",
    "# Elemento en el bloque 0, fila 2, columna 2\n",
    "print('b[0,2,2] =', y[0,2,2], '\\n')\n",
    "# Elemento en el bloque 0, fila 1, columna 1\n",
    "print('b[0,1,1] =', y[0,1,1])"
   ]
  },
  {
   "cell_type": "code",
   "execution_count": 9,
   "metadata": {},
   "outputs": [
    {
     "name": "stdout",
     "output_type": "stream",
     "text": [
      "b =\n",
      " [[[ 0  1  2  3]\n",
      "  [ 4  5  6  7]\n",
      "  [ 8  9 10 11]]\n",
      "\n",
      " [[12 13 14 15]\n",
      "  [16 17 18 19]\n",
      "  [20 21 22 23]]] \n",
      "\n",
      "b[0,0,0] = 0 \n",
      "\n",
      "b[1,0,0] = 12 \n",
      "\n",
      "b[:,0,0] = [ 0 12]\n"
     ]
    }
   ],
   "source": [
    "print('b =\\n', y, '\\n')\n",
    "# Mostraremos como generalizar una selección\n",
    "\n",
    "# Primero elegimos el componente en la fila 0, columna 0, del bloque 0\n",
    "print('b[0,0,0] =', y[0,0,0], '\\n')\n",
    "# A continuación, elegimos el componente en la fila 0, columna, pero del bloque 1\n",
    "print('b[1,0,0] =', y[1,0,0], '\\n')\n",
    "# Para elegir SIMULTANEAMENTE ambos elementos, lo hacemos utilizando dos puntos\n",
    "print('b[:,0,0] =', y[:,0,0])"
   ]
  },
  {
   "cell_type": "code",
   "execution_count": 10,
   "metadata": {},
   "outputs": [
    {
     "name": "stdout",
     "output_type": "stream",
     "text": [
      "b =\n",
      " [[[ 0  1  2  3]\n",
      "  [ 4  5  6  7]\n",
      "  [ 8  9 10 11]]\n",
      "\n",
      " [[12 13 14 15]\n",
      "  [16 17 18 19]\n",
      "  [20 21 22 23]]] \n",
      "\n",
      "b[0] =\n",
      " [[ 0  1  2  3]\n",
      " [ 4  5  6  7]\n",
      " [ 8  9 10 11]]\n",
      "b =\n",
      " [[[ 0  1  2  3]\n",
      "  [ 4  5  6  7]\n",
      "  [ 8  9 10 11]]\n",
      "\n",
      " [[12 13 14 15]\n",
      "  [16 17 18 19]\n",
      "  [20 21 22 23]]] \n",
      "\n",
      "b[0,:,:] =\n",
      " [[ 0  1  2  3]\n",
      " [ 4  5  6  7]\n",
      " [ 8  9 10 11]]\n"
     ]
    }
   ],
   "source": [
    "print('b =\\n', y, '\\n')\n",
    "# Si escribimos: b[0]\n",
    "\n",
    "# Habremos elegido el primer bloque, pero habríamos omitido las filas y las columnas\n",
    "# En tal caso, numpy toma todas las filas y columnas del bloque 0\n",
    "print('b[0] =\\n', y[0])\n",
    "\n",
    "print('b =\\n', y, '\\n')\n",
    "\n",
    "# Otra forma de representar b[0] es: b[0, :, :]\n",
    "\n",
    "# Los dos puntos sin ningún valor, indican que se utilizarán todos los términos disponibles\n",
    "# En este caso, todas las filas y todas las columnas\n",
    "print('b[0,:,:] =\\n', y[0,:,:])"
   ]
  },
  {
   "cell_type": "code",
   "execution_count": 11,
   "metadata": {},
   "outputs": [
    {
     "name": "stdout",
     "output_type": "stream",
     "text": [
      "b =\n",
      " [[[ 0  1  2  3]\n",
      "  [ 4  5  6  7]\n",
      "  [ 8  9 10 11]]\n",
      "\n",
      " [[12 13 14 15]\n",
      "  [16 17 18 19]\n",
      "  [20 21 22 23]]] \n",
      "\n",
      "b[0, ...] =\n",
      " [[ 0  1  2  3]\n",
      " [ 4  5  6  7]\n",
      " [ 8  9 10 11]]\n"
     ]
    }
   ],
   "source": [
    "print('b =\\n', y, '\\n')\n",
    "# Cuando se utiliza la notación de : a derecha o a izquierda, se puede reemplazar por ...\n",
    "# El ejemplo anterior se puede escribir así:\n",
    "print('b[0, ...] =\\n', y[0, ...])"
   ]
  },
  {
   "cell_type": "code",
   "execution_count": 12,
   "metadata": {
    "scrolled": true
   },
   "outputs": [
    {
     "name": "stdout",
     "output_type": "stream",
     "text": [
      "b =\n",
      " [[[ 0  1  2  3]\n",
      "  [ 4  5  6  7]\n",
      "  [ 8  9 10 11]]\n",
      "\n",
      " [[12 13 14 15]\n",
      "  [16 17 18 19]\n",
      "  [20 21 22 23]]] \n",
      "\n",
      "b[0,1] = [4 5 6 7]\n"
     ]
    }
   ],
   "source": [
    "print('b =\\n', y, '\\n')\n",
    "# Si queremos la fila 1 del bloque 0 (sin que importen las columnas), se tiene:\n",
    "print('b[0,1] =', y[0,1])"
   ]
  },
  {
   "cell_type": "code",
   "execution_count": 13,
   "metadata": {},
   "outputs": [
    {
     "name": "stdout",
     "output_type": "stream",
     "text": [
      "b =\n",
      " [[[ 0  1  2  3]\n",
      "  [ 4  5  6  7]\n",
      "  [ 8  9 10 11]]\n",
      "\n",
      " [[12 13 14 15]\n",
      "  [16 17 18 19]\n",
      "  [20 21 22 23]]] \n",
      "\n",
      "z[0,1] = b[0,1] = [4 5 6 7] \n",
      "\n",
      "z[::2] = [4 6]\n"
     ]
    }
   ],
   "source": [
    "print('b =\\n', y, '\\n')\n",
    "# El resultado de una selección puede utilizar luego para un cálculo posterior\n",
    "\n",
    "# Se obtiene la fila 1 del bloque 0 (como en ejemplo anterior)\n",
    "# y se asigna dicha respuesta a la variable z\n",
    "z = y[0,1]\n",
    "print('z[0,1] = b[0,1] =', z, '\\n')\n",
    "# En este caso, la variable z toma el valor: [4 5 6 7]\n",
    "# Si ahora queremos tomar de dicha respuesta los valores de 2 en 2, se tiene:\n",
    "print('z[::2] =', z[::2])"
   ]
  },
  {
   "cell_type": "code",
   "execution_count": 14,
   "metadata": {},
   "outputs": [
    {
     "name": "stdout",
     "output_type": "stream",
     "text": [
      "b =\n",
      " [[[ 0  1  2  3]\n",
      "  [ 4  5  6  7]\n",
      "  [ 8  9 10 11]]\n",
      "\n",
      " [[12 13 14 15]\n",
      "  [16 17 18 19]\n",
      "  [20 21 22 23]]] \n",
      "\n",
      "b[0,1,::2] = [4 6]\n"
     ]
    }
   ],
   "source": [
    "print('b =\\n', y, '\\n')\n",
    "# El ejercicio anterior se puede combinar en una expresión única, así:\n",
    "\n",
    "print('b[0,1,::2] =', y[0,1,::2])\n",
    "# Esta es una solución más compacta"
   ]
  },
  {
   "cell_type": "code",
   "execution_count": 15,
   "metadata": {},
   "outputs": [
    {
     "name": "stdout",
     "output_type": "stream",
     "text": [
      "b =\n",
      " [[[ 0  1  2  3]\n",
      "  [ 4  5  6  7]\n",
      "  [ 8  9 10 11]]\n",
      "\n",
      " [[12 13 14 15]\n",
      "  [16 17 18 19]\n",
      "  [20 21 22 23]]] \n",
      "\n",
      "b[:,:,1] =\n",
      " [[ 1  5  9]\n",
      " [13 17 21]] \n",
      "\n",
      "b[...,1] =\n",
      " [[ 1  5  9]\n",
      " [13 17 21]]\n"
     ]
    }
   ],
   "source": [
    "print('b =\\n', y, '\\n')\n",
    "\n",
    "# Imprime todas las columnas, independientemente de los bloques y filas\n",
    "print('b[:,:,1] =\\n', y[:,:,1], '\\n')\n",
    "# Variante de notación (simplificada)\n",
    "print('b[...,1] =\\n', y[...,1])"
   ]
  },
  {
   "cell_type": "code",
   "execution_count": 16,
   "metadata": {},
   "outputs": [
    {
     "name": "stdout",
     "output_type": "stream",
     "text": [
      "b =\n",
      " [[[ 0  1  2  3]\n",
      "  [ 4  5  6  7]\n",
      "  [ 8  9 10 11]]\n",
      "\n",
      " [[12 13 14 15]\n",
      "  [16 17 18 19]\n",
      "  [20 21 22 23]]] \n",
      "\n",
      "b[:,1] = [[ 4  5  6  7]\n",
      " [16 17 18 19]]\n"
     ]
    }
   ],
   "source": [
    "print('b =\\n', y, '\\n')\n",
    "# Si queremos seleccionar todas las filas 2, independientemente\n",
    "# de los bloques y columnas, se tiene:\n",
    "print('b[:,1] =', y[:,1])\n",
    "# Puesto que no se menciona en la notación las columnas, se toman todos\n",
    "# los valores según corresponda"
   ]
  },
  {
   "cell_type": "code",
   "execution_count": 17,
   "metadata": {},
   "outputs": [
    {
     "name": "stdout",
     "output_type": "stream",
     "text": [
      "b =\n",
      " [[[ 0  1  2  3]\n",
      "  [ 4  5  6  7]\n",
      "  [ 8  9 10 11]]\n",
      "\n",
      " [[12 13 14 15]\n",
      "  [16 17 18 19]\n",
      "  [20 21 22 23]]] \n",
      "\n",
      "b[0,:,1] = [1 5 9]\n"
     ]
    }
   ],
   "source": [
    "print('b =\\n', y, '\\n')\n",
    "# En el siguiente ejemplo seleccionmos la columna 1 del bloque 0\n",
    "print('b[0,:,1] =', y[0,:,1])"
   ]
  },
  {
   "cell_type": "code",
   "execution_count": 18,
   "metadata": {},
   "outputs": [
    {
     "name": "stdout",
     "output_type": "stream",
     "text": [
      "b =\n",
      " [[[ 0  1  2  3]\n",
      "  [ 4  5  6  7]\n",
      "  [ 8  9 10 11]]\n",
      "\n",
      " [[12 13 14 15]\n",
      "  [16 17 18 19]\n",
      "  [20 21 22 23]]] \n",
      "\n",
      "b[0,:,-1] = [ 3  7 11]\n",
      "b[0, ::-1, -1] = [11  7  3]\n",
      "b[0, ::2, -1] = [ 3 11]\n"
     ]
    }
   ],
   "source": [
    "print('b =\\n', y, '\\n')\n",
    "# Si queremos seleccionar la última columna del primer bloque, tenemos:\n",
    "print('b[0,:,-1] =', y[0,:,3])\n",
    "# Podemos observar lo siguiente: entre corchetes encontramos tres valores\n",
    "# El primero, el cero, selecciona el primer bloque\n",
    "# El tercero, -1, se encarga de seleccionar la última columna\n",
    "# Los dos puntos, en la segunda posición, SELECCIONAN todos los\n",
    "# componentes de las FILAS, que FORMARÁN PARTE de dicha COLUMNA\n",
    "# Dado que los dos puntos definen todos los valores de las FILAS en\n",
    "# una columna específica, si quisieramos que DICHOS VALORES estuvieran\n",
    "# en orden inverso, ejecutaríamos la instrucción\n",
    "print('b[0, ::-1, -1] =', y[0, ::-1, -1])\n",
    "# La expresión ::-1 invierte todos los valores que se hubieran seleccionado\n",
    "# Si en lugar de invertir la columna, quisieramos imprimir sus\n",
    "# valores de 2 en 2, tendríamos:\n",
    "print('b[0, ::2, -1] =', y[0, ::2, -1])"
   ]
  },
  {
   "cell_type": "code",
   "execution_count": 19,
   "metadata": {},
   "outputs": [
    {
     "name": "stdout",
     "output_type": "stream",
     "text": [
      "b =\n",
      " [[[ 0  1  2  3]\n",
      "  [ 4  5  6  7]\n",
      "  [ 8  9 10 11]]\n",
      "\n",
      " [[12 13 14 15]\n",
      "  [16 17 18 19]\n",
      "  [20 21 22 23]]] \n",
      "\n",
      "b[::-1] =  [[[12 13 14 15]\n",
      "  [16 17 18 19]\n",
      "  [20 21 22 23]]\n",
      "\n",
      " [[ 0  1  2  3]\n",
      "  [ 4  5  6  7]\n",
      "  [ 8  9 10 11]]]\n"
     ]
    }
   ],
   "source": [
    "# El array original\n",
    "print('b =\\n', y, '\\n')\n",
    "# Esta instrucción invierte los bloques\n",
    "print('b[::-1] = ',y[::-1])"
   ]
  },
  {
   "cell_type": "code",
   "execution_count": 20,
   "metadata": {},
   "outputs": [
    {
     "name": "stdout",
     "output_type": "stream",
     "text": [
      "Matriz b =\n",
      " [[[ 0  1  2  3]\n",
      "  [ 4  5  6  7]\n",
      "  [ 8  9 10 11]]\n",
      "\n",
      " [[12 13 14 15]\n",
      "  [16 17 18 19]\n",
      "  [20 21 22 23]]] \n",
      "--------------------------\n",
      "\n",
      "Vector b = \n",
      " [ 0  1  2  3  4  5  6  7  8  9 10 11 12 13 14 15 16 17 18 19 20 21 22 23]\n"
     ]
    }
   ],
   "source": [
    "# La instrucción: ravel(), de-construye el efecto de la instrucción: reshape\n",
    "\n",
    "# Este es el array b en su estado matricial\n",
    "print('Matriz b =\\n', y, '\\n--------------------------\\n')\n",
    "# Con ravel() se genera un vector a partir de la matriz\n",
    "print('Vector b = \\n', y.ravel())"
   ]
  },
  {
   "cell_type": "code",
   "execution_count": 21,
   "metadata": {},
   "outputs": [
    {
     "name": "stdout",
     "output_type": "stream",
     "text": [
      "Matriz b =\n",
      " [[[ 0  1  2  3]\n",
      "  [ 4  5  6  7]\n",
      "  [ 8  9 10 11]]\n",
      "\n",
      " [[12 13 14 15]\n",
      "  [16 17 18 19]\n",
      "  [20 21 22 23]]] \n",
      "--------------------------\n",
      "\n",
      "Vector b con flatten =\n",
      " [ 0  1  2  3  4  5  6  7  8  9 10 11 12 13 14 15 16 17 18 19 20 21 22 23]\n"
     ]
    }
   ],
   "source": [
    "print('Matriz b =\\n', y, '\\n--------------------------\\n')\n",
    "# La instrucción: flatten() es similar a ravel()\n",
    "w=y\n",
    "# La diferencia es que flatten genera un nuevo espacio de memoria\n",
    "print('Vector b con flatten =\\n', y.flatten())"
   ]
  },
  {
   "cell_type": "code",
   "execution_count": 22,
   "metadata": {},
   "outputs": [
    {
     "name": "stdout",
     "output_type": "stream",
     "text": [
      "Matriz b =\n",
      " [[[ 0  1  2  3]\n",
      "  [ 4  5  6  7]\n",
      "  [ 8  9 10 11]]\n",
      "\n",
      " [[12 13 14 15]\n",
      "  [16 17 18 19]\n",
      "  [20 21 22 23]]] \n",
      "--------------------------\n",
      "\n",
      "b(6x4) =\n",
      " [[ 0  1  2  3]\n",
      " [ 4  5  6  7]\n",
      " [ 8  9 10 11]\n",
      " [12 13 14 15]\n",
      " [16 17 18 19]\n",
      " [20 21 22 23]]\n"
     ]
    }
   ],
   "source": [
    "print('Matriz b =\\n', w, '\\n--------------------------\\n')\n",
    "# Se puede cambiar la estructura de una matriz con la instrucción: shape\n",
    "\n",
    "# Transformamos la matriz en 6 filas x 4 columnas\n",
    "y.shape = (6,4)\n",
    "print('b(6x4) =\\n', y)"
   ]
  },
  {
   "cell_type": "code",
   "execution_count": 23,
   "metadata": {},
   "outputs": [
    {
     "name": "stdout",
     "output_type": "stream",
     "text": [
      "Matriz b =\n",
      " [[ 0  1  2  3]\n",
      " [ 4  5  6  7]\n",
      " [ 8  9 10 11]\n",
      " [12 13 14 15]\n",
      " [16 17 18 19]\n",
      " [20 21 22 23]] \n",
      "--------------------------\n",
      "\n",
      "Transpuesta de b =\n",
      " [[ 0  4  8 12 16 20]\n",
      " [ 1  5  9 13 17 21]\n",
      " [ 2  6 10 14 18 22]\n",
      " [ 3  7 11 15 19 23]] \n",
      "------------------------\n",
      "\n"
     ]
    }
   ],
   "source": [
    "print('Matriz b =\\n', y, '\\n--------------------------\\n')\n",
    "# A partir de la matriz que acaba de ser generada, vamos a mostrar\n",
    "# como se construye la transpuesta de la matriz\n",
    "# Matri transpuesta\n",
    "print('Transpuesta de b =\\n', y.transpose(), '\\n------------------------\\n')"
   ]
  },
  {
   "cell_type": "code",
   "execution_count": 24,
   "metadata": {},
   "outputs": [
    {
     "name": "stdout",
     "output_type": "stream",
     "text": [
      "Matriz b =\n",
      " [[ 0  1  2  3]\n",
      " [ 4  5  6  7]\n",
      " [ 8  9 10 11]\n",
      " [12 13 14 15]\n",
      " [16 17 18 19]\n",
      " [20 21 22 23]] \n",
      "--------------------------\n",
      "\n",
      "b =\n",
      " [[ 0  1  2  3  4  5  6  7  8  9 10 11]\n",
      " [12 13 14 15 16 17 18 19 20 21 22 23]]\n"
     ]
    }
   ],
   "source": [
    "print('Matriz b =\\n', y, '\\n--------------------------\\n')\n",
    "# Para concluir este primer módulo de numpy, mostraremos que la instrucción\n",
    "# resize, ejecuta una labor similar a reshape\n",
    "# La diferencia está en que resize altera la estructura del array\n",
    "# En cambio reshape crea una copia del original, razón por la cual en\n",
    "# reshape se debe asignar el resultado a una nueva variable\n",
    "# Se cambia la estructura del array b\n",
    "y.resize([2,12])\n",
    "# Al imprimir el array b, se observa que su estructura ha cambiado\n",
    "print('b =\\n', y)"
   ]
  },
  {
   "cell_type": "code",
   "execution_count": null,
   "metadata": {},
   "outputs": [],
   "source": []
  }
 ],
 "metadata": {
  "kernelspec": {
   "display_name": "Python 3",
   "language": "python",
   "name": "python3"
  },
  "language_info": {
   "codemirror_mode": {
    "name": "ipython",
    "version": 3
   },
   "file_extension": ".py",
   "mimetype": "text/x-python",
   "name": "python",
   "nbconvert_exporter": "python",
   "pygments_lexer": "ipython3",
   "version": "3.7.4"
  }
 },
 "nbformat": 4,
 "nbformat_minor": 2
}
