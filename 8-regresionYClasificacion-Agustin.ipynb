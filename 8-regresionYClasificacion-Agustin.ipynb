{
 "cells": [
  {
   "cell_type": "markdown",
   "metadata": {},
   "source": [
    "## Agustin Salazar / 12250912229 \n",
    "\n",
    "## Regresión y Clasificación"
   ]
  },
  {
   "cell_type": "code",
   "execution_count": null,
   "metadata": {},
   "outputs": [],
   "source": [
    "import numpy as np\n",
    "from sklearn import preprocessing\n",
    "\n",
    "input_data = np.array([\n",
    "[5.1, -2.9, 3.3],\n",
    "[-1.2, 7.8, -6.1],\n",
    "[3.9, 0.4, 2.1],\n",
    "[7.3, -9.9, -4.5]])\n",
    "print(\"Datos originales:\\n\",input_data)"
   ]
  },
  {
   "cell_type": "code",
   "execution_count": null,
   "metadata": {},
   "outputs": [],
   "source": [
    "# Binarizar los datos\n",
    "print(\"Datos originales:\\n\",input_data)\n",
    "data_binarized = preprocessing.Binarizer(threshold=2.1).transform(input_data)\n",
    "print(\"\\nDatos binarizados:\\n\", data_binarized)"
   ]
  },
  {
   "cell_type": "code",
   "execution_count": null,
   "metadata": {},
   "outputs": [],
   "source": [
    "print(\"\\nANTES:\\n\")\n",
    "print(\"Datos originales:\\n\",input_data)\n",
    "print(\"\\n                        [columna1 columna2 columna3]\")\n",
    "print(\"Media =                \", input_data.mean(axis=0))\n",
    "print(\"Desviación estándar =  \", input_data.std(axis=0))"
   ]
  },
  {
   "cell_type": "code",
   "execution_count": null,
   "metadata": {},
   "outputs": [],
   "source": [
    "# Remover la media\n",
    "print(\"\\nDESPUÉS:\\n\")\n",
    "print(\"Datos originales:\\n\",input_data)\n",
    "data_scaled = preprocessing.scale(input_data)\n",
    "print(\"\\nDatos escalados =\\n\", data_scaled)\n",
    "print(\"\\n                        [columna1 columna2 columna3]\")\n",
    "print(\"Media =                \", data_scaled.mean(axis=0))\n",
    "print(\"Desviación estándar =  \", data_scaled.std(axis=0))"
   ]
  },
  {
   "cell_type": "code",
   "execution_count": null,
   "metadata": {},
   "outputs": [],
   "source": [
    "# Escalamiento Min Max\n",
    "\n",
    "data_scaler_minmax = preprocessing.MinMaxScaler(feature_range=(0,1))\n",
    "print (data_scaler_minmax)\n",
    "data_scaled_minmax = data_scaler_minmax.fit_transform(input_data)\n",
    "print(\"\\nMin max escalamiento de datos:\\n\", data_scaled_minmax)"
   ]
  },
  {
   "cell_type": "code",
   "execution_count": null,
   "metadata": {},
   "outputs": [],
   "source": [
    "# Normalización de datos\n",
    "print(\"Datos originales:\\n\",input_data)\n",
    "data_normalized_l1 = preprocessing.normalize(input_data, norm='l1')\n",
    "data_normalized_l2 = preprocessing.normalize(input_data, norm='l2')\n",
    "print(\"\\nL1 dato normalizado:\\n\", data_normalized_l1)\n",
    "print(\"\\nL2 dato normalizado:\\n\", data_normalized_l2)"
   ]
  },
  {
   "cell_type": "code",
   "execution_count": null,
   "metadata": {},
   "outputs": [],
   "source": [
    "input_labels = ['rojo', 'negro', 'rojo', 'verde', 'negro', 'amarillo', 'blanco', 'morado']\n",
    "\n",
    "# Se crea un codificador de etiquetas y se ajustan las etiquetas\n",
    "encoder = preprocessing.LabelEncoder()\n",
    "encoder.fit(input_labels)"
   ]
  },
  {
   "cell_type": "code",
   "execution_count": null,
   "metadata": {},
   "outputs": [],
   "source": [
    "# Se imprime el mapeo entre palabras y números\n",
    "print(\"\\nMapeo de etiquetas:\")\n",
    "for i, item in enumerate(encoder.classes_):\n",
    "    print(item, '-->', i)"
   ]
  },
  {
   "cell_type": "code",
   "execution_count": null,
   "metadata": {},
   "outputs": [],
   "source": [
    "# Codificar un conjunto de etiquetas con el codificador\n",
    "test_labels = ['verde', 'rojo', 'negro', 'blanco']\n",
    "encoded_values = encoder.transform(test_labels)\n",
    "print(\"\\nLabels =\", test_labels)\n",
    "print(\"Encoded values =\", list(encoded_values))"
   ]
  },
  {
   "cell_type": "code",
   "execution_count": null,
   "metadata": {},
   "outputs": [],
   "source": [
    "# Decodificar un conjunto de valores usando el codificador\n",
    "encoded_values = [3, 0, 4, 1, 5, 0, 2]\n",
    "decoded_list = encoder.inverse_transform(encoded_values)\n",
    "print(\"\\nEncoded values =\", encoded_values)\n",
    "print(\"Decoded labels =\", list(decoded_list))"
   ]
  }
 ],
 "metadata": {
  "kernelspec": {
   "display_name": "Python 3",
   "language": "python",
   "name": "python3"
  },
  "language_info": {
   "codemirror_mode": {
    "name": "ipython",
    "version": 3
   },
   "file_extension": ".py",
   "mimetype": "text/x-python",
   "name": "python",
   "nbconvert_exporter": "python",
   "pygments_lexer": "ipython3",
   "version": "3.7.4"
  }
 },
 "nbformat": 4,
 "nbformat_minor": 2
}
